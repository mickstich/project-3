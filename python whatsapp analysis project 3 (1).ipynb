{
 "cells": [
  {
   "cell_type": "code",
   "execution_count": 17,
   "id": "d989db64",
   "metadata": {
    "scrolled": false
   },
   "outputs": [],
   "source": [
    "import pandas as pd\n",
    "import re\n",
    "import matplotlib \n",
    "\n",
    "def startsWithDate(s):\n",
    "    pattern = '^([0-2][0-9]|(3)[0-1])(\\/)(((0)[0-9])|((1)[0-2]))(\\/)(\\d{2}|\\d{4}), ([0-9][0-9]):([0-9][0-9]) -'\n",
    "    result = re.match(pattern, s)\n",
    "    if result:\n",
    "        return True\n",
    "    return False\n",
    "\n",
    "def startsWithAuthor(s):\n",
    "    patterns = [\n",
    "        '([\\w]+):',                        \n",
    "        '([\\w]+[\\s]+[\\w]+):',              \n",
    "        '([\\w]+[\\s]+[\\w]+[\\s]+[\\w]+):',    \n",
    "        '([+]\\d{2} \\d{5} \\d{5}):',         \n",
    "        '([+]\\d{2} \\d{3} \\d{3} \\d{4}):',   \n",
    "        '([+]\\d{2} \\d{4} \\d{7})'           \n",
    "    ]\n",
    "    pattern = '^' + '|'.join(patterns)\n",
    "    result = re.match(pattern, s)\n",
    "    if result:\n",
    "        return True\n",
    "    return False\n",
    "\n",
    "def getDataPoint(line):\n",
    "    \n",
    "    \n",
    "    splitLine = line.split(' -')\n",
    "    \n",
    "    dateTime = splitLine[0] \n",
    "    \n",
    "    date, time = dateTime.split(', ') \n",
    "    \n",
    "    message = ' '.join(splitLine[1:]) \n",
    "    \n",
    "    if startsWithAuthor(message): \n",
    "        splitMessage = message.split(': ') \n",
    "        author = splitMessage[0] \n",
    "        message = ' '.join(splitMessage[1:]) \n",
    "    else:\n",
    "        author = None\n",
    "    return date, time, author, message\n",
    "\n",
    "\n",
    "parsedData = [] \n",
    "fp=pd.read_csv('E:\\chat.csv')\n",
    "fp.readline() \n",
    "        \n",
    "messageBuffer = [] \n",
    "date, time, author = None, None, None \n",
    "while True:\n",
    "    line = fp.readline() \n",
    "    if not line: \n",
    "          break\n",
    "    line = line.strip() \n",
    "\n",
    "if startsWithDate(line): \n",
    "    if len(messageBuffer) > 0: \n",
    "            parsedData.append([date, time, author, ' '.join(messageBuffer)])\n",
    "            messageBuffer.clear() \n",
    "            date, time, author, message = getDataPoint(line) \n",
    "            messageBuffer.append(message) \n",
    "    else:\n",
    "            messageBuffer.append(line)\n",
    "            \n",
    "            \n",
    "            \n",
    "    df = pd.DataFrame(parsedData, columns=['Date', 'Time', 'Author', 'message'])\n",
    "    df.head(50)\n",
    "    \n",
    "    "
   ]
  },
  {
   "cell_type": "code",
   "execution_count": 18,
   "id": "31023731",
   "metadata": {},
   "outputs": [],
   "source": [
    "# Number of messages per author for the top 10 most active authors \n",
    "author_value_counts = df['Author'].value_counts() \n",
    "top_10_author_value_counts = author_value_counts.head(10) \n",
    "top_10_author_value_counts.plot.barh() "
   ]
  },
  {
   "cell_type": "code",
   "execution_count": 19,
   "id": "a41de256",
   "metadata": {},
   "outputs": [],
   "source": [
    "null_authors_df = df[df['Author'].isnull()]\n"
   ]
  },
  {
   "cell_type": "code",
   "execution_count": null,
   "id": "b26f6571",
   "metadata": {},
   "outputs": [],
   "source": [
    "discrete_columns = [['Date', 'Time', 'Author', 'Message']]\n",
    "messages_df[discrete_columns].describe()\n"
   ]
  },
  {
   "cell_type": "code",
   "execution_count": null,
   "id": "8f8b1ea2",
   "metadata": {},
   "outputs": [],
   "source": []
  },
  {
   "cell_type": "code",
   "execution_count": null,
   "id": "f5491044",
   "metadata": {},
   "outputs": [],
   "source": []
  },
  {
   "cell_type": "code",
   "execution_count": null,
   "id": "5989e70f",
   "metadata": {},
   "outputs": [],
   "source": [
    "\n",
    "\n"
   ]
  },
  {
   "cell_type": "code",
   "execution_count": null,
   "id": "d4d87b98",
   "metadata": {},
   "outputs": [],
   "source": []
  }
 ],
 "metadata": {
  "kernelspec": {
   "display_name": "Python 3",
   "language": "python",
   "name": "python3"
  },
  "language_info": {
   "codemirror_mode": {
    "name": "ipython",
    "version": 3
   },
   "file_extension": ".py",
   "mimetype": "text/x-python",
   "name": "python",
   "nbconvert_exporter": "python",
   "pygments_lexer": "ipython3",
   "version": "3.8.8"
  }
 },
 "nbformat": 4,
 "nbformat_minor": 5
}
